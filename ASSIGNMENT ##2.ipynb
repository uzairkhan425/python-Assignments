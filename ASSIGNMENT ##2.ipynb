{
 "cells": [
  {
   "cell_type": "code",
   "execution_count": 2,
   "metadata": {},
   "outputs": [
    {
     "name": "stdout",
     "output_type": "stream",
     "text": [
      "enter your maths marks out of 100  -30\n",
      "enter your physics marks  out of 100  -95\n",
      "enter your urdu marks  out of 100 -58\n",
      "enter your chemistry marks  out of 100 -59\n",
      "enter your english marks  out of 100 -85\n",
      "total marks is  327\n",
      "and your grade is Grade B\n"
     ]
    }
   ],
   "source": [
    "maths= int(input(\"enter your maths marks out of 100  -\"))\n",
    "phy= int(input(\"enter your physics marks  out of 100  -\"))\n",
    "urdu= int(input(\"enter your urdu marks  out of 100 -\"))\n",
    "chem= int(input(\"enter your chemistry marks  out of 100 -\"))\n",
    "eng= int(input(\"enter your english marks  out of 100 -\"))\n",
    "total= maths+phy+urdu+chem+eng\n",
    "print(\"total marks is \" ,total)\n",
    "if total>=450 and total <=465 :\n",
    "     print(\" and your grade is Grade A*\")\n",
    "elif total>=400 and total <450 :\n",
    "     print(\" and your grade is Grade A-1 \")\n",
    "elif total>=350 and total<400 :\n",
    "      print(\"and your grade is Grade A\")\n",
    "elif total >=300 and total <350 :\n",
    "        print(\"and your grade is Grade B\")\n",
    "elif total >=250 and total <300 :        \n",
    "           print(\"and your grade is Grade C\")\n",
    "elif total >=200 and total <250 :\n",
    "            print(\"and your grade is Grade D\")\n",
    "elif total >=150 and total <200 :       \n",
    "            print(\"and your grade is Grade E\")\n",
    "else :\n",
    "        print(\"you are failed\")"
   ]
  },
  {
   "cell_type": "code",
   "execution_count": 7,
   "metadata": {},
   "outputs": [
    {
     "name": "stdout",
     "output_type": "stream",
     "text": [
      "enter any number1\n",
      " entered number is odd number  \n"
     ]
    }
   ],
   "source": [
    "num=int(input(\"enter any number\"))\n",
    "if num%2 ==1:\n",
    "    print(\" entered number is odd number  \")\n",
    "else:\n",
    "     print(\"enetered number is even number\")"
   ]
  },
  {
   "cell_type": "code",
   "execution_count": 8,
   "metadata": {},
   "outputs": [
    {
     "name": "stdout",
     "output_type": "stream",
     "text": [
      "the length of the list is  10\n"
     ]
    }
   ],
   "source": [
    "list=[2,4,6,7,8,9,15,6,'ali','maaz']\n",
    "print(\"the length of the list is \",len(list))"
   ]
  },
  {
   "cell_type": "code",
   "execution_count": 1,
   "metadata": {},
   "outputs": [
    {
     "name": "stdout",
     "output_type": "stream",
     "text": [
      "initial list  [2, 4, 5, 'ali', 14, 'Ahmed', 7]\n",
      "the resultant sum is 32\n"
     ]
    }
   ],
   "source": [
    "list=[2,4,5,\"ali\",14,\"Ahmed\",7]\n",
    "print(\"initial list \",list)\n",
    "res=0\n",
    "for item in list:\n",
    "    try:\n",
    "        res=res+int(item)\n",
    "    except ValueError:\n",
    "        pass\n",
    "        \n",
    "    \n",
    "print(\"the resultant sum is\",res)           "
   ]
  },
  {
   "cell_type": "code",
   "execution_count": 2,
   "metadata": {},
   "outputs": [
    {
     "name": "stdout",
     "output_type": "stream",
     "text": [
      "intial list is  [2, 4, 5, 14, 7, 4, 2, 23, 53, 23, 4, 23, 65, 6, 7, 68, 45, 23, 41, 3, 23, 14645, 7, 56]\n",
      "the largest number in the give list is   14645\n"
     ]
    }
   ],
   "source": [
    "list=[2,4,5,14,7,4,2,23,53,23,4,23,65,6,7,68,45,23,41,3,23,14645,7,56,]\n",
    "print(\"intial list is \",list)\n",
    "list.sort()\n",
    "print(\"the largest number in the give list is  \",list[-1])\n",
    "\n",
    "\n"
   ]
  },
  {
   "cell_type": "code",
   "execution_count": 3,
   "metadata": {},
   "outputs": [
    {
     "name": "stdout",
     "output_type": "stream",
     "text": [
      "intial list  [1, 1, 2, 3, 5, 8, 13, 21, 34, 55, 89]\n",
      " the numbers that are less than 5 in the above list are [1, 1, 2, 3, 5]\n"
     ]
    }
   ],
   "source": [
    "list=[1,1,2,3,5,8,13,21,34,55,89]\n",
    "print(\"intial list \", list)\n",
    "a=list[0:5]\n",
    "print(\" the numbers that are less than 5 in the above list are\",a)\n",
    "         "
   ]
  },
  {
   "cell_type": "code",
   "execution_count": null,
   "metadata": {},
   "outputs": [],
   "source": []
  }
 ],
 "metadata": {
  "kernelspec": {
   "display_name": "Python 3",
   "language": "python",
   "name": "python3"
  },
  "language_info": {
   "codemirror_mode": {
    "name": "ipython",
    "version": 3
   },
   "file_extension": ".py",
   "mimetype": "text/x-python",
   "name": "python",
   "nbconvert_exporter": "python",
   "pygments_lexer": "ipython3",
   "version": "3.7.3"
  }
 },
 "nbformat": 4,
 "nbformat_minor": 2
}
